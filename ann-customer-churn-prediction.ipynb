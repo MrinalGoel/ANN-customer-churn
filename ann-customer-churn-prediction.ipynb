{
 "cells": [
  {
   "cell_type": "code",
   "execution_count": 1,
   "id": "05e0f6a4",
   "metadata": {
    "_cell_guid": "b1076dfc-b9ad-4769-8c92-a6c4dae69d19",
    "_uuid": "8f2839f25d086af736a60e9eeb907d3b93b6e0e5",
    "execution": {
     "iopub.execute_input": "2024-01-31T12:51:26.501834Z",
     "iopub.status.busy": "2024-01-31T12:51:26.501308Z",
     "iopub.status.idle": "2024-01-31T12:51:29.088547Z",
     "shell.execute_reply": "2024-01-31T12:51:29.087320Z"
    },
    "papermill": {
     "duration": 2.602873,
     "end_time": "2024-01-31T12:51:29.091222",
     "exception": false,
     "start_time": "2024-01-31T12:51:26.488349",
     "status": "completed"
    },
    "tags": []
   },
   "outputs": [
    {
     "name": "stdout",
     "output_type": "stream",
     "text": [
      "/kaggle/input/credit-card-customers/BankChurners.csv\n"
     ]
    }
   ],
   "source": [
    "# This Python 3 environment comes with many helpful analytics libraries installed\n",
    "# It is defined by the kaggle/python Docker image: https://github.com/kaggle/docker-python\n",
    "# For example, here's several helpful packages to load\n",
    "\n",
    "import numpy as np # linear algebra\n",
    "import pandas as pd # data processing, CSV file I/O (e.g. pd.read_csv)\n",
    "import seaborn as sns\n",
    "import matplotlib.pyplot as plt\n",
    "\n",
    "# Input data files are available in the read-only \"../input/\" directory\n",
    "# For example, running this (by clicking run or pressing Shift+Enter) will list all files under the input directory\n",
    "\n",
    "import os\n",
    "for dirname, _, filenames in os.walk('/kaggle/input'):\n",
    "    for filename in filenames:\n",
    "        print(os.path.join(dirname, filename))\n",
    "\n",
    "# You can write up to 20GB to the current directory (/kaggle/working/) that gets preserved as output when you create a version using \"Save & Run All\" \n",
    "# You can also write temporary files to /kaggle/temp/, but they won't be saved outside of the current session"
   ]
  },
  {
   "cell_type": "markdown",
   "id": "19231cd5",
   "metadata": {
    "papermill": {
     "duration": 0.009941,
     "end_time": "2024-01-31T12:51:29.111943",
     "exception": false,
     "start_time": "2024-01-31T12:51:29.102002",
     "status": "completed"
    },
    "tags": []
   },
   "source": [
    "### Table of contents - \n",
    "* [What is customer churn and why is it important? 🏆](#Intro)\n",
    "* [EDA 🔍](#EDA)\n",
    "* [Data preprocessing - Encoding and Scaling 🛠](#prepro)\n",
    "* [SMOTE and model building 🔮](#model)\n",
    "* [Deep dive into the performance metrics 🏄‍ ](#fin)"
   ]
  },
  {
   "cell_type": "markdown",
   "id": "abf017ae",
   "metadata": {
    "papermill": {
     "duration": 0.010259,
     "end_time": "2024-01-31T12:51:29.132741",
     "exception": false,
     "start_time": "2024-01-31T12:51:29.122482",
     "status": "completed"
    },
    "tags": []
   },
   "source": [
    "### Introduction to Customer churn <a class=\"anchor\"  id=\"Intro\"></a>\n",
    "\n",
    "Customer churn, also known as customer attrition, refers to the phenomenon where customers discontinue or terminate their relationship with a business or service provider. Customer churn is a critical metric for banks, impacting both their financial performance and competitive position. In this notebook, we will make use of a simple feedforward neural network (Multi layer Perception) to solve this classification problem. "
   ]
  },
  {
   "cell_type": "markdown",
   "id": "68b60d4c",
   "metadata": {
    "papermill": {
     "duration": 0.010147,
     "end_time": "2024-01-31T12:51:29.153310",
     "exception": false,
     "start_time": "2024-01-31T12:51:29.143163",
     "status": "completed"
    },
    "tags": []
   },
   "source": [
    "### Exploratory Data Analysis <a class=\"anchor\"  id=\"EDA\"></a>\n"
   ]
  },
  {
   "cell_type": "code",
   "execution_count": 2,
   "id": "f801b73f",
   "metadata": {
    "execution": {
     "iopub.execute_input": "2024-01-31T12:51:29.177327Z",
     "iopub.status.busy": "2024-01-31T12:51:29.176294Z",
     "iopub.status.idle": "2024-01-31T12:51:29.314970Z",
     "shell.execute_reply": "2024-01-31T12:51:29.314166Z"
    },
    "papermill": {
     "duration": 0.153175,
     "end_time": "2024-01-31T12:51:29.317195",
     "exception": false,
     "start_time": "2024-01-31T12:51:29.164020",
     "status": "completed"
    },
    "tags": []
   },
   "outputs": [
    {
     "data": {
      "text/html": [
       "<div>\n",
       "<style scoped>\n",
       "    .dataframe tbody tr th:only-of-type {\n",
       "        vertical-align: middle;\n",
       "    }\n",
       "\n",
       "    .dataframe tbody tr th {\n",
       "        vertical-align: top;\n",
       "    }\n",
       "\n",
       "    .dataframe thead th {\n",
       "        text-align: right;\n",
       "    }\n",
       "</style>\n",
       "<table border=\"1\" class=\"dataframe\">\n",
       "  <thead>\n",
       "    <tr style=\"text-align: right;\">\n",
       "      <th></th>\n",
       "      <th>CLIENTNUM</th>\n",
       "      <th>Attrition_Flag</th>\n",
       "      <th>Customer_Age</th>\n",
       "      <th>Gender</th>\n",
       "      <th>Dependent_count</th>\n",
       "      <th>Education_Level</th>\n",
       "      <th>Marital_Status</th>\n",
       "      <th>Income_Category</th>\n",
       "      <th>Card_Category</th>\n",
       "      <th>Months_on_book</th>\n",
       "      <th>...</th>\n",
       "      <th>Months_Inactive_12_mon</th>\n",
       "      <th>Contacts_Count_12_mon</th>\n",
       "      <th>Credit_Limit</th>\n",
       "      <th>Total_Revolving_Bal</th>\n",
       "      <th>Avg_Open_To_Buy</th>\n",
       "      <th>Total_Amt_Chng_Q4_Q1</th>\n",
       "      <th>Total_Trans_Amt</th>\n",
       "      <th>Total_Trans_Ct</th>\n",
       "      <th>Total_Ct_Chng_Q4_Q1</th>\n",
       "      <th>Avg_Utilization_Ratio</th>\n",
       "    </tr>\n",
       "  </thead>\n",
       "  <tbody>\n",
       "    <tr>\n",
       "      <th>0</th>\n",
       "      <td>768805383</td>\n",
       "      <td>Existing Customer</td>\n",
       "      <td>45</td>\n",
       "      <td>M</td>\n",
       "      <td>3</td>\n",
       "      <td>High School</td>\n",
       "      <td>Married</td>\n",
       "      <td>$60K - $80K</td>\n",
       "      <td>Blue</td>\n",
       "      <td>39</td>\n",
       "      <td>...</td>\n",
       "      <td>1</td>\n",
       "      <td>3</td>\n",
       "      <td>12691.0</td>\n",
       "      <td>777</td>\n",
       "      <td>11914.0</td>\n",
       "      <td>1.335</td>\n",
       "      <td>1144</td>\n",
       "      <td>42</td>\n",
       "      <td>1.625</td>\n",
       "      <td>0.061</td>\n",
       "    </tr>\n",
       "    <tr>\n",
       "      <th>1</th>\n",
       "      <td>818770008</td>\n",
       "      <td>Existing Customer</td>\n",
       "      <td>49</td>\n",
       "      <td>F</td>\n",
       "      <td>5</td>\n",
       "      <td>Graduate</td>\n",
       "      <td>Single</td>\n",
       "      <td>Less than $40K</td>\n",
       "      <td>Blue</td>\n",
       "      <td>44</td>\n",
       "      <td>...</td>\n",
       "      <td>1</td>\n",
       "      <td>2</td>\n",
       "      <td>8256.0</td>\n",
       "      <td>864</td>\n",
       "      <td>7392.0</td>\n",
       "      <td>1.541</td>\n",
       "      <td>1291</td>\n",
       "      <td>33</td>\n",
       "      <td>3.714</td>\n",
       "      <td>0.105</td>\n",
       "    </tr>\n",
       "    <tr>\n",
       "      <th>2</th>\n",
       "      <td>713982108</td>\n",
       "      <td>Existing Customer</td>\n",
       "      <td>51</td>\n",
       "      <td>M</td>\n",
       "      <td>3</td>\n",
       "      <td>Graduate</td>\n",
       "      <td>Married</td>\n",
       "      <td>$80K - $120K</td>\n",
       "      <td>Blue</td>\n",
       "      <td>36</td>\n",
       "      <td>...</td>\n",
       "      <td>1</td>\n",
       "      <td>0</td>\n",
       "      <td>3418.0</td>\n",
       "      <td>0</td>\n",
       "      <td>3418.0</td>\n",
       "      <td>2.594</td>\n",
       "      <td>1887</td>\n",
       "      <td>20</td>\n",
       "      <td>2.333</td>\n",
       "      <td>0.000</td>\n",
       "    </tr>\n",
       "    <tr>\n",
       "      <th>3</th>\n",
       "      <td>769911858</td>\n",
       "      <td>Existing Customer</td>\n",
       "      <td>40</td>\n",
       "      <td>F</td>\n",
       "      <td>4</td>\n",
       "      <td>High School</td>\n",
       "      <td>Unknown</td>\n",
       "      <td>Less than $40K</td>\n",
       "      <td>Blue</td>\n",
       "      <td>34</td>\n",
       "      <td>...</td>\n",
       "      <td>4</td>\n",
       "      <td>1</td>\n",
       "      <td>3313.0</td>\n",
       "      <td>2517</td>\n",
       "      <td>796.0</td>\n",
       "      <td>1.405</td>\n",
       "      <td>1171</td>\n",
       "      <td>20</td>\n",
       "      <td>2.333</td>\n",
       "      <td>0.760</td>\n",
       "    </tr>\n",
       "    <tr>\n",
       "      <th>4</th>\n",
       "      <td>709106358</td>\n",
       "      <td>Existing Customer</td>\n",
       "      <td>40</td>\n",
       "      <td>M</td>\n",
       "      <td>3</td>\n",
       "      <td>Uneducated</td>\n",
       "      <td>Married</td>\n",
       "      <td>$60K - $80K</td>\n",
       "      <td>Blue</td>\n",
       "      <td>21</td>\n",
       "      <td>...</td>\n",
       "      <td>1</td>\n",
       "      <td>0</td>\n",
       "      <td>4716.0</td>\n",
       "      <td>0</td>\n",
       "      <td>4716.0</td>\n",
       "      <td>2.175</td>\n",
       "      <td>816</td>\n",
       "      <td>28</td>\n",
       "      <td>2.500</td>\n",
       "      <td>0.000</td>\n",
       "    </tr>\n",
       "  </tbody>\n",
       "</table>\n",
       "<p>5 rows × 21 columns</p>\n",
       "</div>"
      ],
      "text/plain": [
       "   CLIENTNUM     Attrition_Flag  Customer_Age Gender  Dependent_count  \\\n",
       "0  768805383  Existing Customer            45      M                3   \n",
       "1  818770008  Existing Customer            49      F                5   \n",
       "2  713982108  Existing Customer            51      M                3   \n",
       "3  769911858  Existing Customer            40      F                4   \n",
       "4  709106358  Existing Customer            40      M                3   \n",
       "\n",
       "  Education_Level Marital_Status Income_Category Card_Category  \\\n",
       "0     High School        Married     $60K - $80K          Blue   \n",
       "1        Graduate         Single  Less than $40K          Blue   \n",
       "2        Graduate        Married    $80K - $120K          Blue   \n",
       "3     High School        Unknown  Less than $40K          Blue   \n",
       "4      Uneducated        Married     $60K - $80K          Blue   \n",
       "\n",
       "   Months_on_book  ...  Months_Inactive_12_mon  Contacts_Count_12_mon  \\\n",
       "0              39  ...                       1                      3   \n",
       "1              44  ...                       1                      2   \n",
       "2              36  ...                       1                      0   \n",
       "3              34  ...                       4                      1   \n",
       "4              21  ...                       1                      0   \n",
       "\n",
       "   Credit_Limit  Total_Revolving_Bal  Avg_Open_To_Buy  Total_Amt_Chng_Q4_Q1  \\\n",
       "0       12691.0                  777          11914.0                 1.335   \n",
       "1        8256.0                  864           7392.0                 1.541   \n",
       "2        3418.0                    0           3418.0                 2.594   \n",
       "3        3313.0                 2517            796.0                 1.405   \n",
       "4        4716.0                    0           4716.0                 2.175   \n",
       "\n",
       "   Total_Trans_Amt  Total_Trans_Ct  Total_Ct_Chng_Q4_Q1  Avg_Utilization_Ratio  \n",
       "0             1144              42                1.625                  0.061  \n",
       "1             1291              33                3.714                  0.105  \n",
       "2             1887              20                2.333                  0.000  \n",
       "3             1171              20                2.333                  0.760  \n",
       "4              816              28                2.500                  0.000  \n",
       "\n",
       "[5 rows x 21 columns]"
      ]
     },
     "execution_count": 2,
     "metadata": {},
     "output_type": "execute_result"
    }
   ],
   "source": [
    "df = pd.read_csv('/kaggle/input/credit-card-customers/BankChurners.csv')\n",
    "df = df[df.columns[:-2]]\n",
    "df.head()"
   ]
  },
  {
   "cell_type": "code",
   "execution_count": 3,
   "id": "91f95669",
   "metadata": {
    "execution": {
     "iopub.execute_input": "2024-01-31T12:51:29.341410Z",
     "iopub.status.busy": "2024-01-31T12:51:29.340933Z",
     "iopub.status.idle": "2024-01-31T12:51:29.348541Z",
     "shell.execute_reply": "2024-01-31T12:51:29.347342Z"
    },
    "papermill": {
     "duration": 0.022966,
     "end_time": "2024-01-31T12:51:29.351151",
     "exception": false,
     "start_time": "2024-01-31T12:51:29.328185",
     "status": "completed"
    },
    "tags": []
   },
   "outputs": [],
   "source": [
    "# Numerical and catagorical columns \n",
    "\n",
    "num_cols = [col for col in df.columns if df[col].dtype != 'object']\n",
    "cat_cols = [col for col in df.columns if df[col].dtype == 'object']\n",
    "cat_cols.remove('Attrition_Flag')"
   ]
  },
  {
   "cell_type": "code",
   "execution_count": 4,
   "id": "cd609ee0",
   "metadata": {
    "execution": {
     "iopub.execute_input": "2024-01-31T12:51:29.375261Z",
     "iopub.status.busy": "2024-01-31T12:51:29.374800Z",
     "iopub.status.idle": "2024-01-31T12:51:29.477555Z",
     "shell.execute_reply": "2024-01-31T12:51:29.476437Z"
    },
    "papermill": {
     "duration": 0.118416,
     "end_time": "2024-01-31T12:51:29.480450",
     "exception": false,
     "start_time": "2024-01-31T12:51:29.362034",
     "status": "completed"
    },
    "tags": []
   },
   "outputs": [
    {
     "data": {
      "text/html": [
       "<div>\n",
       "<style scoped>\n",
       "    .dataframe tbody tr th:only-of-type {\n",
       "        vertical-align: middle;\n",
       "    }\n",
       "\n",
       "    .dataframe tbody tr th {\n",
       "        vertical-align: top;\n",
       "    }\n",
       "\n",
       "    .dataframe thead th {\n",
       "        text-align: right;\n",
       "    }\n",
       "</style>\n",
       "<table border=\"1\" class=\"dataframe\">\n",
       "  <thead>\n",
       "    <tr style=\"text-align: right;\">\n",
       "      <th></th>\n",
       "      <th>Missing %</th>\n",
       "    </tr>\n",
       "  </thead>\n",
       "  <tbody>\n",
       "  </tbody>\n",
       "</table>\n",
       "</div>"
      ],
      "text/plain": [
       "Empty DataFrame\n",
       "Columns: [Missing %]\n",
       "Index: []"
      ]
     },
     "execution_count": 4,
     "metadata": {},
     "output_type": "execute_result"
    }
   ],
   "source": [
    "# Checking for missing values \n",
    "\n",
    "null_df = pd.DataFrame((df.isnull().sum())*100/df.shape[0],index=df.columns,columns=['Missing %'])\n",
    "null_df[null_df['Missing %']>0]"
   ]
  },
  {
   "cell_type": "code",
   "execution_count": 5,
   "id": "cf114e7b",
   "metadata": {
    "execution": {
     "iopub.execute_input": "2024-01-31T12:51:29.504374Z",
     "iopub.status.busy": "2024-01-31T12:51:29.503923Z",
     "iopub.status.idle": "2024-01-31T12:51:29.537692Z",
     "shell.execute_reply": "2024-01-31T12:51:29.536827Z"
    },
    "papermill": {
     "duration": 0.04824,
     "end_time": "2024-01-31T12:51:29.539911",
     "exception": false,
     "start_time": "2024-01-31T12:51:29.491671",
     "status": "completed"
    },
    "tags": []
   },
   "outputs": [
    {
     "data": {
      "text/html": [
       "<div>\n",
       "<style scoped>\n",
       "    .dataframe tbody tr th:only-of-type {\n",
       "        vertical-align: middle;\n",
       "    }\n",
       "\n",
       "    .dataframe tbody tr th {\n",
       "        vertical-align: top;\n",
       "    }\n",
       "\n",
       "    .dataframe thead th {\n",
       "        text-align: right;\n",
       "    }\n",
       "</style>\n",
       "<table border=\"1\" class=\"dataframe\">\n",
       "  <thead>\n",
       "    <tr style=\"text-align: right;\">\n",
       "      <th></th>\n",
       "      <th>CLIENTNUM</th>\n",
       "      <th>Attrition_Flag</th>\n",
       "      <th>Customer_Age</th>\n",
       "      <th>Gender</th>\n",
       "      <th>Dependent_count</th>\n",
       "      <th>Education_Level</th>\n",
       "      <th>Marital_Status</th>\n",
       "      <th>Income_Category</th>\n",
       "      <th>Card_Category</th>\n",
       "      <th>Months_on_book</th>\n",
       "      <th>...</th>\n",
       "      <th>Months_Inactive_12_mon</th>\n",
       "      <th>Contacts_Count_12_mon</th>\n",
       "      <th>Credit_Limit</th>\n",
       "      <th>Total_Revolving_Bal</th>\n",
       "      <th>Avg_Open_To_Buy</th>\n",
       "      <th>Total_Amt_Chng_Q4_Q1</th>\n",
       "      <th>Total_Trans_Amt</th>\n",
       "      <th>Total_Trans_Ct</th>\n",
       "      <th>Total_Ct_Chng_Q4_Q1</th>\n",
       "      <th>Avg_Utilization_Ratio</th>\n",
       "    </tr>\n",
       "  </thead>\n",
       "  <tbody>\n",
       "  </tbody>\n",
       "</table>\n",
       "<p>0 rows × 21 columns</p>\n",
       "</div>"
      ],
      "text/plain": [
       "Empty DataFrame\n",
       "Columns: [CLIENTNUM, Attrition_Flag, Customer_Age, Gender, Dependent_count, Education_Level, Marital_Status, Income_Category, Card_Category, Months_on_book, Total_Relationship_Count, Months_Inactive_12_mon, Contacts_Count_12_mon, Credit_Limit, Total_Revolving_Bal, Avg_Open_To_Buy, Total_Amt_Chng_Q4_Q1, Total_Trans_Amt, Total_Trans_Ct, Total_Ct_Chng_Q4_Q1, Avg_Utilization_Ratio]\n",
       "Index: []\n",
       "\n",
       "[0 rows x 21 columns]"
      ]
     },
     "execution_count": 5,
     "metadata": {},
     "output_type": "execute_result"
    }
   ],
   "source": [
    "# Checking for duplicate rows \n",
    "\n",
    "df[df.duplicated()]"
   ]
  },
  {
   "cell_type": "code",
   "execution_count": 6,
   "id": "72137ae0",
   "metadata": {
    "execution": {
     "iopub.execute_input": "2024-01-31T12:51:29.564151Z",
     "iopub.status.busy": "2024-01-31T12:51:29.563694Z",
     "iopub.status.idle": "2024-01-31T12:51:29.579852Z",
     "shell.execute_reply": "2024-01-31T12:51:29.578754Z"
    },
    "papermill": {
     "duration": 0.031346,
     "end_time": "2024-01-31T12:51:29.582539",
     "exception": false,
     "start_time": "2024-01-31T12:51:29.551193",
     "status": "completed"
    },
    "tags": []
   },
   "outputs": [
    {
     "data": {
      "text/plain": [
       "Attrition_Flag\n",
       "Existing Customer    0.83934\n",
       "Attrited Customer    0.16066\n",
       "Name: count, dtype: float64"
      ]
     },
     "execution_count": 6,
     "metadata": {},
     "output_type": "execute_result"
    }
   ],
   "source": [
    "# Distribution of the target (Attrition_Flag)\n",
    "\n",
    "df['Attrition_Flag'].value_counts()/(len(df))"
   ]
  },
  {
   "cell_type": "markdown",
   "id": "560ed371",
   "metadata": {
    "papermill": {
     "duration": 0.01161,
     "end_time": "2024-01-31T12:51:29.605993",
     "exception": false,
     "start_time": "2024-01-31T12:51:29.594383",
     "status": "completed"
    },
    "tags": []
   },
   "source": [
    "This is a classic problem of an imbalanced dataset with only 16% of the customers having churned. We will deal with this using SMOTE."
   ]
  },
  {
   "cell_type": "code",
   "execution_count": 7,
   "id": "279c0c3e",
   "metadata": {
    "execution": {
     "iopub.execute_input": "2024-01-31T12:51:29.631450Z",
     "iopub.status.busy": "2024-01-31T12:51:29.631041Z",
     "iopub.status.idle": "2024-01-31T12:51:29.806681Z",
     "shell.execute_reply": "2024-01-31T12:51:29.805091Z"
    },
    "papermill": {
     "duration": 0.19313,
     "end_time": "2024-01-31T12:51:29.811291",
     "exception": false,
     "start_time": "2024-01-31T12:51:29.618161",
     "status": "completed"
    },
    "tags": []
   },
   "outputs": [
    {
     "data": {
      "image/png": "[encoded data removed]",
      "text/plain": [
       "<Figure size 640x480 with 1 Axes>"
      ]
     },
     "metadata": {},
     "output_type": "display_data"
    }
   ],
   "source": [
    "# Attrition based on gender\n",
    "\n",
    "data = df[df['Attrition_Flag']=='Attrited Customer']['Gender'].value_counts()\n",
    "keys = df[df['Attrition_Flag']=='Attrited Customer']['Gender'].unique()\n",
    "explode = [0, 0.1]\n",
    "palette_color = sns.color_palette('pastel') \n",
    "plt.pie(data, labels=keys, colors=palette_color, \n",
    "        explode=explode, autopct='%.0f%%') \n",
    "plt.show() "
   ]
  },
  {
   "cell_type": "code",
   "execution_count": 8,
   "id": "ebc00e6a",
   "metadata": {
    "execution": {
     "iopub.execute_input": "2024-01-31T12:51:29.865694Z",
     "iopub.status.busy": "2024-01-31T12:51:29.863598Z",
     "iopub.status.idle": "2024-01-31T12:51:30.038981Z",
     "shell.execute_reply": "2024-01-31T12:51:30.037285Z"
    },
    "papermill": {
     "duration": 0.207625,
     "end_time": "2024-01-31T12:51:30.044014",
     "exception": false,
     "start_time": "2024-01-31T12:51:29.836389",
     "status": "completed"
    },
    "tags": []
   },
   "outputs": [
    {
     "data": {
      "image/png": "[encoded data removed]",
      "text/plain": [
       "<Figure size 640x480 with 1 Axes>"
      ]
     },
     "metadata": {},
     "output_type": "display_data"
    }
   ],
   "source": [
    "data = df[df['Attrition_Flag']=='Attrited Customer']['Card_Category'].value_counts()\n",
    "keys = df[df['Attrition_Flag']=='Attrited Customer']['Card_Category'].unique()\n",
    "explode = [0.1,0,0,0]\n",
    "palette_color = sns.color_palette('pastel') \n",
    "plt.pie(data, labels=keys, colors=palette_color, \n",
    "        explode=explode, autopct='%.0f%%') \n",
    "plt.show() "
   ]
  },
  {
   "cell_type": "markdown",
   "id": "ffd2babc",
   "metadata": {
    "papermill": {
     "duration": 0.025195,
     "end_time": "2024-01-31T12:51:30.096647",
     "exception": false,
     "start_time": "2024-01-31T12:51:30.071452",
     "status": "completed"
    },
    "tags": []
   },
   "source": [
    "Wow! 93% of the attrited customers belong to the blue card category, whereas the more premimum category (which is not very popular) like platinum has a very small proportion of attrited customers. This is not a clear metric as the number of customers having a blue card is much higher than the customers belonging to more premimum card categories. Let us use a more reliable metric and define % attrition which is calculated using both the number of customers belonging to a card category and how many of them have churned."
   ]
  },
  {
   "cell_type": "code",
   "execution_count": 9,
   "id": "3c9d8263",
   "metadata": {
    "execution": {
     "iopub.execute_input": "2024-01-31T12:51:30.124400Z",
     "iopub.status.busy": "2024-01-31T12:51:30.123353Z",
     "iopub.status.idle": "2024-01-31T12:51:30.141513Z",
     "shell.execute_reply": "2024-01-31T12:51:30.140130Z"
    },
    "papermill": {
     "duration": 0.034186,
     "end_time": "2024-01-31T12:51:30.144084",
     "exception": false,
     "start_time": "2024-01-31T12:51:30.109898",
     "status": "completed"
    },
    "tags": []
   },
   "outputs": [
    {
     "name": "stdout",
     "output_type": "stream",
     "text": [
      "Blue 16.097922848664687\n",
      "Silver 14.774774774774773\n",
      "Gold 18.103448275862068\n",
      "Platinum 25.0\n"
     ]
    }
   ],
   "source": [
    "# Attrition % based on card category\n",
    "\n",
    "attrition_p = []\n",
    "counts = df['Card_Category'].value_counts()\n",
    "data = df[df['Attrition_Flag']=='Attrited Customer']['Card_Category'].value_counts()\n",
    "keys = df[df['Attrition_Flag']=='Attrited Customer']['Card_Category'].unique()\n",
    "for key in keys:\n",
    "    print(key,(data[key]/counts[key])*100)\n",
    "    attrition_p.append((data[key]/counts[key])*100)\n"
   ]
  },
  {
   "cell_type": "code",
   "execution_count": 10,
   "id": "9876b5ec",
   "metadata": {
    "execution": {
     "iopub.execute_input": "2024-01-31T12:51:30.171159Z",
     "iopub.status.busy": "2024-01-31T12:51:30.170697Z",
     "iopub.status.idle": "2024-01-31T12:51:30.481055Z",
     "shell.execute_reply": "2024-01-31T12:51:30.479849Z"
    },
    "papermill": {
     "duration": 0.326987,
     "end_time": "2024-01-31T12:51:30.483440",
     "exception": false,
     "start_time": "2024-01-31T12:51:30.156453",
     "status": "completed"
    },
    "tags": []
   },
   "outputs": [
    {
     "data": {
      "image/png": "[encoded data removed]",
      "text/plain": [
       "<Figure size 640x480 with 1 Axes>"
      ]
     },
     "metadata": {},
     "output_type": "display_data"
    }
   ],
   "source": [
    "ax = sns.barplot(x=keys,y=attrition_p,palette='pastel')\n",
    "ax.set(title='% Attrition based on Card Category',ylabel='% Attrition',xlabel='Card Category');"
   ]
  },
  {
   "cell_type": "markdown",
   "id": "742d8d04",
   "metadata": {
    "papermill": {
     "duration": 0.012452,
     "end_time": "2024-01-31T12:51:30.508592",
     "exception": false,
     "start_time": "2024-01-31T12:51:30.496140",
     "status": "completed"
    },
    "tags": []
   },
   "source": [
    "Now looks like the customers belonging to platinum category have a higher churn % of 25%."
   ]
  },
  {
   "cell_type": "markdown",
   "id": "4faed32c",
   "metadata": {
    "papermill": {
     "duration": 0.012431,
     "end_time": "2024-01-31T12:51:30.533874",
     "exception": false,
     "start_time": "2024-01-31T12:51:30.521443",
     "status": "completed"
    },
    "tags": []
   },
   "source": [
    "### Data preprocessing - Encoding and Scaling  <a class=\"anchor\"  id=\"prepro\"></a>"
   ]
  },
  {
   "cell_type": "code",
   "execution_count": 11,
   "id": "44729ef2",
   "metadata": {
    "execution": {
     "iopub.execute_input": "2024-01-31T12:51:30.561926Z",
     "iopub.status.busy": "2024-01-31T12:51:30.561524Z",
     "iopub.status.idle": "2024-01-31T12:51:30.770340Z",
     "shell.execute_reply": "2024-01-31T12:51:30.769205Z"
    },
    "papermill": {
     "duration": 0.226258,
     "end_time": "2024-01-31T12:51:30.773039",
     "exception": false,
     "start_time": "2024-01-31T12:51:30.546781",
     "status": "completed"
    },
    "tags": []
   },
   "outputs": [],
   "source": [
    "# Encoding - to surpass the curse of dimensionality we will go ahead with Label encoding instead of OHE. \n",
    "\n",
    "from sklearn.preprocessing import LabelEncoder\n",
    "\n",
    "for col in cat_cols:\n",
    "    df[col] = LabelEncoder().fit_transform(df[col])"
   ]
  },
  {
   "cell_type": "code",
   "execution_count": 12,
   "id": "6f5b2d15",
   "metadata": {
    "execution": {
     "iopub.execute_input": "2024-01-31T12:51:30.802002Z",
     "iopub.status.busy": "2024-01-31T12:51:30.801139Z",
     "iopub.status.idle": "2024-01-31T12:51:30.827979Z",
     "shell.execute_reply": "2024-01-31T12:51:30.826813Z"
    },
    "papermill": {
     "duration": 0.04447,
     "end_time": "2024-01-31T12:51:30.830645",
     "exception": false,
     "start_time": "2024-01-31T12:51:30.786175",
     "status": "completed"
    },
    "tags": []
   },
   "outputs": [
    {
     "data": {
      "text/html": [
       "<div>\n",
       "<style scoped>\n",
       "    .dataframe tbody tr th:only-of-type {\n",
       "        vertical-align: middle;\n",
       "    }\n",
       "\n",
       "    .dataframe tbody tr th {\n",
       "        vertical-align: top;\n",
       "    }\n",
       "\n",
       "    .dataframe thead th {\n",
       "        text-align: right;\n",
       "    }\n",
       "</style>\n",
       "<table border=\"1\" class=\"dataframe\">\n",
       "  <thead>\n",
       "    <tr style=\"text-align: right;\">\n",
       "      <th></th>\n",
       "      <th>CLIENTNUM</th>\n",
       "      <th>Attrition_Flag</th>\n",
       "      <th>Customer_Age</th>\n",
       "      <th>Gender</th>\n",
       "      <th>Dependent_count</th>\n",
       "      <th>Education_Level</th>\n",
       "      <th>Marital_Status</th>\n",
       "      <th>Income_Category</th>\n",
       "      <th>Card_Category</th>\n",
       "      <th>Months_on_book</th>\n",
       "      <th>...</th>\n",
       "      <th>Months_Inactive_12_mon</th>\n",
       "      <th>Contacts_Count_12_mon</th>\n",
       "      <th>Credit_Limit</th>\n",
       "      <th>Total_Revolving_Bal</th>\n",
       "      <th>Avg_Open_To_Buy</th>\n",
       "      <th>Total_Amt_Chng_Q4_Q1</th>\n",
       "      <th>Total_Trans_Amt</th>\n",
       "      <th>Total_Trans_Ct</th>\n",
       "      <th>Total_Ct_Chng_Q4_Q1</th>\n",
       "      <th>Avg_Utilization_Ratio</th>\n",
       "    </tr>\n",
       "  </thead>\n",
       "  <tbody>\n",
       "    <tr>\n",
       "      <th>0</th>\n",
       "      <td>768805383</td>\n",
       "      <td>Existing Customer</td>\n",
       "      <td>45</td>\n",
       "      <td>1</td>\n",
       "      <td>3</td>\n",
       "      <td>3</td>\n",
       "      <td>1</td>\n",
       "      <td>2</td>\n",
       "      <td>0</td>\n",
       "      <td>39</td>\n",
       "      <td>...</td>\n",
       "      <td>1</td>\n",
       "      <td>3</td>\n",
       "      <td>12691.0</td>\n",
       "      <td>777</td>\n",
       "      <td>11914.0</td>\n",
       "      <td>1.335</td>\n",
       "      <td>1144</td>\n",
       "      <td>42</td>\n",
       "      <td>1.625</td>\n",
       "      <td>0.061</td>\n",
       "    </tr>\n",
       "    <tr>\n",
       "      <th>1</th>\n",
       "      <td>818770008</td>\n",
       "      <td>Existing Customer</td>\n",
       "      <td>49</td>\n",
       "      <td>0</td>\n",
       "      <td>5</td>\n",
       "      <td>2</td>\n",
       "      <td>2</td>\n",
       "      <td>4</td>\n",
       "      <td>0</td>\n",
       "      <td>44</td>\n",
       "      <td>...</td>\n",
       "      <td>1</td>\n",
       "      <td>2</td>\n",
       "      <td>8256.0</td>\n",
       "      <td>864</td>\n",
       "      <td>7392.0</td>\n",
       "      <td>1.541</td>\n",
       "      <td>1291</td>\n",
       "      <td>33</td>\n",
       "      <td>3.714</td>\n",
       "      <td>0.105</td>\n",
       "    </tr>\n",
       "    <tr>\n",
       "      <th>2</th>\n",
       "      <td>713982108</td>\n",
       "      <td>Existing Customer</td>\n",
       "      <td>51</td>\n",
       "      <td>1</td>\n",
       "      <td>3</td>\n",
       "      <td>2</td>\n",
       "      <td>1</td>\n",
       "      <td>3</td>\n",
       "      <td>0</td>\n",
       "      <td>36</td>\n",
       "      <td>...</td>\n",
       "      <td>1</td>\n",
       "      <td>0</td>\n",
       "      <td>3418.0</td>\n",
       "      <td>0</td>\n",
       "      <td>3418.0</td>\n",
       "      <td>2.594</td>\n",
       "      <td>1887</td>\n",
       "      <td>20</td>\n",
       "      <td>2.333</td>\n",
       "      <td>0.000</td>\n",
       "    </tr>\n",
       "    <tr>\n",
       "      <th>3</th>\n",
       "      <td>769911858</td>\n",
       "      <td>Existing Customer</td>\n",
       "      <td>40</td>\n",
       "      <td>0</td>\n",
       "      <td>4</td>\n",
       "      <td>3</td>\n",
       "      <td>3</td>\n",
       "      <td>4</td>\n",
       "      <td>0</td>\n",
       "      <td>34</td>\n",
       "      <td>...</td>\n",
       "      <td>4</td>\n",
       "      <td>1</td>\n",
       "      <td>3313.0</td>\n",
       "      <td>2517</td>\n",
       "      <td>796.0</td>\n",
       "      <td>1.405</td>\n",
       "      <td>1171</td>\n",
       "      <td>20</td>\n",
       "      <td>2.333</td>\n",
       "      <td>0.760</td>\n",
       "    </tr>\n",
       "    <tr>\n",
       "      <th>4</th>\n",
       "      <td>709106358</td>\n",
       "      <td>Existing Customer</td>\n",
       "      <td>40</td>\n",
       "      <td>1</td>\n",
       "      <td>3</td>\n",
       "      <td>5</td>\n",
       "      <td>1</td>\n",
       "      <td>2</td>\n",
       "      <td>0</td>\n",
       "      <td>21</td>\n",
       "      <td>...</td>\n",
       "      <td>1</td>\n",
       "      <td>0</td>\n",
       "      <td>4716.0</td>\n",
       "      <td>0</td>\n",
       "      <td>4716.0</td>\n",
       "      <td>2.175</td>\n",
       "      <td>816</td>\n",
       "      <td>28</td>\n",
       "      <td>2.500</td>\n",
       "      <td>0.000</td>\n",
       "    </tr>\n",
       "  </tbody>\n",
       "</table>\n",
       "<p>5 rows × 21 columns</p>\n",
       "</div>"
      ],
      "text/plain": [
       "   CLIENTNUM     Attrition_Flag  Customer_Age  Gender  Dependent_count  \\\n",
       "0  768805383  Existing Customer            45       1                3   \n",
       "1  818770008  Existing Customer            49       0                5   \n",
       "2  713982108  Existing Customer            51       1                3   \n",
       "3  769911858  Existing Customer            40       0                4   \n",
       "4  709106358  Existing Customer            40       1                3   \n",
       "\n",
       "   Education_Level  Marital_Status  Income_Category  Card_Category  \\\n",
       "0                3               1                2              0   \n",
       "1                2               2                4              0   \n",
       "2                2               1                3              0   \n",
       "3                3               3                4              0   \n",
       "4                5               1                2              0   \n",
       "\n",
       "   Months_on_book  ...  Months_Inactive_12_mon  Contacts_Count_12_mon  \\\n",
       "0              39  ...                       1                      3   \n",
       "1              44  ...                       1                      2   \n",
       "2              36  ...                       1                      0   \n",
       "3              34  ...                       4                      1   \n",
       "4              21  ...                       1                      0   \n",
       "\n",
       "   Credit_Limit  Total_Revolving_Bal  Avg_Open_To_Buy  Total_Amt_Chng_Q4_Q1  \\\n",
       "0       12691.0                  777          11914.0                 1.335   \n",
       "1        8256.0                  864           7392.0                 1.541   \n",
       "2        3418.0                    0           3418.0                 2.594   \n",
       "3        3313.0                 2517            796.0                 1.405   \n",
       "4        4716.0                    0           4716.0                 2.175   \n",
       "\n",
       "   Total_Trans_Amt  Total_Trans_Ct  Total_Ct_Chng_Q4_Q1  Avg_Utilization_Ratio  \n",
       "0             1144              42                1.625                  0.061  \n",
       "1             1291              33                3.714                  0.105  \n",
       "2             1887              20                2.333                  0.000  \n",
       "3             1171              20                2.333                  0.760  \n",
       "4              816              28                2.500                  0.000  \n",
       "\n",
       "[5 rows x 21 columns]"
      ]
     },
     "execution_count": 12,
     "metadata": {},
     "output_type": "execute_result"
    }
   ],
   "source": [
    "df.head()"
   ]
  },
  {
   "cell_type": "code",
   "execution_count": 13,
   "id": "457cb076",
   "metadata": {
    "execution": {
     "iopub.execute_input": "2024-01-31T12:51:30.859358Z",
     "iopub.status.busy": "2024-01-31T12:51:30.858565Z",
     "iopub.status.idle": "2024-01-31T12:51:30.872984Z",
     "shell.execute_reply": "2024-01-31T12:51:30.871898Z"
    },
    "papermill": {
     "duration": 0.031753,
     "end_time": "2024-01-31T12:51:30.875602",
     "exception": false,
     "start_time": "2024-01-31T12:51:30.843849",
     "status": "completed"
    },
    "tags": []
   },
   "outputs": [],
   "source": [
    "df.Attrition_Flag = df.Attrition_Flag.replace({'Attrited Customer':1,'Existing Customer':0})"
   ]
  },
  {
   "cell_type": "code",
   "execution_count": 14,
   "id": "2a3e8282",
   "metadata": {
    "execution": {
     "iopub.execute_input": "2024-01-31T12:51:30.903952Z",
     "iopub.status.busy": "2024-01-31T12:51:30.903503Z",
     "iopub.status.idle": "2024-01-31T12:51:30.923334Z",
     "shell.execute_reply": "2024-01-31T12:51:30.921981Z"
    },
    "papermill": {
     "duration": 0.03731,
     "end_time": "2024-01-31T12:51:30.926269",
     "exception": false,
     "start_time": "2024-01-31T12:51:30.888959",
     "status": "completed"
    },
    "tags": []
   },
   "outputs": [],
   "source": [
    "# Feature scaling - Standardization\n",
    "\n",
    "from sklearn.preprocessing import StandardScaler\n",
    "scaler = StandardScaler()\n",
    "\n",
    "df[num_cols] = scaler.fit_transform(df[num_cols])"
   ]
  },
  {
   "cell_type": "code",
   "execution_count": 15,
   "id": "10c4943a",
   "metadata": {
    "execution": {
     "iopub.execute_input": "2024-01-31T12:51:30.954543Z",
     "iopub.status.busy": "2024-01-31T12:51:30.954111Z",
     "iopub.status.idle": "2024-01-31T12:51:30.982606Z",
     "shell.execute_reply": "2024-01-31T12:51:30.981737Z"
    },
    "papermill": {
     "duration": 0.045703,
     "end_time": "2024-01-31T12:51:30.985226",
     "exception": false,
     "start_time": "2024-01-31T12:51:30.939523",
     "status": "completed"
    },
    "tags": []
   },
   "outputs": [
    {
     "data": {
      "text/html": [
       "<div>\n",
       "<style scoped>\n",
       "    .dataframe tbody tr th:only-of-type {\n",
       "        vertical-align: middle;\n",
       "    }\n",
       "\n",
       "    .dataframe tbody tr th {\n",
       "        vertical-align: top;\n",
       "    }\n",
       "\n",
       "    .dataframe thead th {\n",
       "        text-align: right;\n",
       "    }\n",
       "</style>\n",
       "<table border=\"1\" class=\"dataframe\">\n",
       "  <thead>\n",
       "    <tr style=\"text-align: right;\">\n",
       "      <th></th>\n",
       "      <th>CLIENTNUM</th>\n",
       "      <th>Attrition_Flag</th>\n",
       "      <th>Customer_Age</th>\n",
       "      <th>Gender</th>\n",
       "      <th>Dependent_count</th>\n",
       "      <th>Education_Level</th>\n",
       "      <th>Marital_Status</th>\n",
       "      <th>Income_Category</th>\n",
       "      <th>Card_Category</th>\n",
       "      <th>Months_on_book</th>\n",
       "      <th>...</th>\n",
       "      <th>Months_Inactive_12_mon</th>\n",
       "      <th>Contacts_Count_12_mon</th>\n",
       "      <th>Credit_Limit</th>\n",
       "      <th>Total_Revolving_Bal</th>\n",
       "      <th>Avg_Open_To_Buy</th>\n",
       "      <th>Total_Amt_Chng_Q4_Q1</th>\n",
       "      <th>Total_Trans_Amt</th>\n",
       "      <th>Total_Trans_Ct</th>\n",
       "      <th>Total_Ct_Chng_Q4_Q1</th>\n",
       "      <th>Avg_Utilization_Ratio</th>\n",
       "    </tr>\n",
       "  </thead>\n",
       "  <tbody>\n",
       "    <tr>\n",
       "      <th>0</th>\n",
       "      <td>0.802878</td>\n",
       "      <td>0</td>\n",
       "      <td>-0.165406</td>\n",
       "      <td>1</td>\n",
       "      <td>0.503368</td>\n",
       "      <td>3</td>\n",
       "      <td>1</td>\n",
       "      <td>2</td>\n",
       "      <td>0</td>\n",
       "      <td>0.384621</td>\n",
       "      <td>...</td>\n",
       "      <td>-1.327136</td>\n",
       "      <td>0.492404</td>\n",
       "      <td>0.446622</td>\n",
       "      <td>-0.473422</td>\n",
       "      <td>0.488971</td>\n",
       "      <td>2.623494</td>\n",
       "      <td>-0.959707</td>\n",
       "      <td>-0.973895</td>\n",
       "      <td>3.834003</td>\n",
       "      <td>-0.775882</td>\n",
       "    </tr>\n",
       "    <tr>\n",
       "      <th>1</th>\n",
       "      <td>2.156861</td>\n",
       "      <td>0</td>\n",
       "      <td>0.333570</td>\n",
       "      <td>0</td>\n",
       "      <td>2.043199</td>\n",
       "      <td>2</td>\n",
       "      <td>2</td>\n",
       "      <td>4</td>\n",
       "      <td>0</td>\n",
       "      <td>1.010715</td>\n",
       "      <td>...</td>\n",
       "      <td>-1.327136</td>\n",
       "      <td>-0.411616</td>\n",
       "      <td>-0.041367</td>\n",
       "      <td>-0.366667</td>\n",
       "      <td>-0.008486</td>\n",
       "      <td>3.563293</td>\n",
       "      <td>-0.916433</td>\n",
       "      <td>-1.357340</td>\n",
       "      <td>12.608573</td>\n",
       "      <td>-0.616276</td>\n",
       "    </tr>\n",
       "    <tr>\n",
       "      <th>2</th>\n",
       "      <td>-0.682769</td>\n",
       "      <td>0</td>\n",
       "      <td>0.583058</td>\n",
       "      <td>1</td>\n",
       "      <td>0.503368</td>\n",
       "      <td>2</td>\n",
       "      <td>1</td>\n",
       "      <td>3</td>\n",
       "      <td>0</td>\n",
       "      <td>0.008965</td>\n",
       "      <td>...</td>\n",
       "      <td>-1.327136</td>\n",
       "      <td>-2.219655</td>\n",
       "      <td>-0.573698</td>\n",
       "      <td>-1.426858</td>\n",
       "      <td>-0.445658</td>\n",
       "      <td>8.367214</td>\n",
       "      <td>-0.740982</td>\n",
       "      <td>-1.911206</td>\n",
       "      <td>6.807864</td>\n",
       "      <td>-0.997155</td>\n",
       "    </tr>\n",
       "    <tr>\n",
       "      <th>3</th>\n",
       "      <td>0.832862</td>\n",
       "      <td>0</td>\n",
       "      <td>-0.789126</td>\n",
       "      <td>0</td>\n",
       "      <td>1.273283</td>\n",
       "      <td>3</td>\n",
       "      <td>3</td>\n",
       "      <td>4</td>\n",
       "      <td>0</td>\n",
       "      <td>-0.241473</td>\n",
       "      <td>...</td>\n",
       "      <td>1.641478</td>\n",
       "      <td>-1.315636</td>\n",
       "      <td>-0.585251</td>\n",
       "      <td>1.661686</td>\n",
       "      <td>-0.734100</td>\n",
       "      <td>2.942843</td>\n",
       "      <td>-0.951758</td>\n",
       "      <td>-1.911206</td>\n",
       "      <td>6.807864</td>\n",
       "      <td>1.759686</td>\n",
       "    </tr>\n",
       "    <tr>\n",
       "      <th>4</th>\n",
       "      <td>-0.814896</td>\n",
       "      <td>0</td>\n",
       "      <td>-0.789126</td>\n",
       "      <td>1</td>\n",
       "      <td>0.503368</td>\n",
       "      <td>5</td>\n",
       "      <td>1</td>\n",
       "      <td>2</td>\n",
       "      <td>0</td>\n",
       "      <td>-1.869317</td>\n",
       "      <td>...</td>\n",
       "      <td>-1.327136</td>\n",
       "      <td>-2.219655</td>\n",
       "      <td>-0.430877</td>\n",
       "      <td>-1.426858</td>\n",
       "      <td>-0.302868</td>\n",
       "      <td>6.455682</td>\n",
       "      <td>-1.056263</td>\n",
       "      <td>-1.570365</td>\n",
       "      <td>7.509325</td>\n",
       "      <td>-0.997155</td>\n",
       "    </tr>\n",
       "  </tbody>\n",
       "</table>\n",
       "<p>5 rows × 21 columns</p>\n",
       "</div>"
      ],
      "text/plain": [
       "   CLIENTNUM  Attrition_Flag  Customer_Age  Gender  Dependent_count  \\\n",
       "0   0.802878               0     -0.165406       1         0.503368   \n",
       "1   2.156861               0      0.333570       0         2.043199   \n",
       "2  -0.682769               0      0.583058       1         0.503368   \n",
       "3   0.832862               0     -0.789126       0         1.273283   \n",
       "4  -0.814896               0     -0.789126       1         0.503368   \n",
       "\n",
       "   Education_Level  Marital_Status  Income_Category  Card_Category  \\\n",
       "0                3               1                2              0   \n",
       "1                2               2                4              0   \n",
       "2                2               1                3              0   \n",
       "3                3               3                4              0   \n",
       "4                5               1                2              0   \n",
       "\n",
       "   Months_on_book  ...  Months_Inactive_12_mon  Contacts_Count_12_mon  \\\n",
       "0        0.384621  ...               -1.327136               0.492404   \n",
       "1        1.010715  ...               -1.327136              -0.411616   \n",
       "2        0.008965  ...               -1.327136              -2.219655   \n",
       "3       -0.241473  ...                1.641478              -1.315636   \n",
       "4       -1.869317  ...               -1.327136              -2.219655   \n",
       "\n",
       "   Credit_Limit  Total_Revolving_Bal  Avg_Open_To_Buy  Total_Amt_Chng_Q4_Q1  \\\n",
       "0      0.446622            -0.473422         0.488971              2.623494   \n",
       "1     -0.041367            -0.366667        -0.008486              3.563293   \n",
       "2     -0.573698            -1.426858        -0.445658              8.367214   \n",
       "3     -0.585251             1.661686        -0.734100              2.942843   \n",
       "4     -0.430877            -1.426858        -0.302868              6.455682   \n",
       "\n",
       "   Total_Trans_Amt  Total_Trans_Ct  Total_Ct_Chng_Q4_Q1  Avg_Utilization_Ratio  \n",
       "0        -0.959707       -0.973895             3.834003              -0.775882  \n",
       "1        -0.916433       -1.357340            12.608573              -0.616276  \n",
       "2        -0.740982       -1.911206             6.807864              -0.997155  \n",
       "3        -0.951758       -1.911206             6.807864               1.759686  \n",
       "4        -1.056263       -1.570365             7.509325              -0.997155  \n",
       "\n",
       "[5 rows x 21 columns]"
      ]
     },
     "execution_count": 15,
     "metadata": {},
     "output_type": "execute_result"
    }
   ],
   "source": [
    "df.head()"
   ]
  },
  {
   "cell_type": "markdown",
   "id": "48e956ce",
   "metadata": {
    "papermill": {
     "duration": 0.013728,
     "end_time": "2024-01-31T12:51:31.012911",
     "exception": false,
     "start_time": "2024-01-31T12:51:30.999183",
     "status": "completed"
    },
    "tags": []
   },
   "source": [
    "### SMOTE and model building <a class=\"anchor\"  id=\"model\"></a>"
   ]
  },
  {
   "cell_type": "code",
   "execution_count": 16,
   "id": "445b28ee",
   "metadata": {
    "execution": {
     "iopub.execute_input": "2024-01-31T12:51:31.042190Z",
     "iopub.status.busy": "2024-01-31T12:51:31.041789Z",
     "iopub.status.idle": "2024-01-31T12:51:31.179233Z",
     "shell.execute_reply": "2024-01-31T12:51:31.177880Z"
    },
    "papermill": {
     "duration": 0.155558,
     "end_time": "2024-01-31T12:51:31.182295",
     "exception": false,
     "start_time": "2024-01-31T12:51:31.026737",
     "status": "completed"
    },
    "tags": []
   },
   "outputs": [],
   "source": [
    "# Creating train, val and test sets\n",
    "\n",
    "from sklearn.model_selection import train_test_split\n",
    "\n",
    "X = df.drop(columns = ['Attrition_Flag'],axis=1)\n",
    "y = df['Attrition_Flag']\n",
    "\n",
    "X_train, X_rem, y_train, y_rem = train_test_split(X, y,\n",
    "                                                  train_size=0.70)\n",
    "X_val, X_test, y_val, y_test = train_test_split(X_rem,y_rem,\n",
    "                                                    test_size=0.15)"
   ]
  },
  {
   "cell_type": "code",
   "execution_count": 17,
   "id": "fa4d74e8",
   "metadata": {
    "execution": {
     "iopub.execute_input": "2024-01-31T12:51:31.212071Z",
     "iopub.status.busy": "2024-01-31T12:51:31.211623Z",
     "iopub.status.idle": "2024-01-31T12:51:31.747861Z",
     "shell.execute_reply": "2024-01-31T12:51:31.746951Z"
    },
    "papermill": {
     "duration": 0.554098,
     "end_time": "2024-01-31T12:51:31.750531",
     "exception": false,
     "start_time": "2024-01-31T12:51:31.196433",
     "status": "completed"
    },
    "tags": []
   },
   "outputs": [],
   "source": [
    "# To deal with class imbalance and prevent overfitting we will be using SMOTE.\n",
    "\n",
    "from imblearn.over_sampling import SMOTE\n",
    "\n",
    "smote = SMOTE(sampling_strategy='auto', random_state=42)\n",
    "X_train_smote, y_train_smote = smote.fit_resample(X_train, y_train)"
   ]
  },
  {
   "cell_type": "code",
   "execution_count": 18,
   "id": "927717c1",
   "metadata": {
    "execution": {
     "iopub.execute_input": "2024-01-31T12:51:31.781142Z",
     "iopub.status.busy": "2024-01-31T12:51:31.780284Z",
     "iopub.status.idle": "2024-01-31T12:51:47.013974Z",
     "shell.execute_reply": "2024-01-31T12:51:47.012795Z"
    },
    "papermill": {
     "duration": 15.252028,
     "end_time": "2024-01-31T12:51:47.016781",
     "exception": false,
     "start_time": "2024-01-31T12:51:31.764753",
     "status": "completed"
    },
    "tags": []
   },
   "outputs": [],
   "source": [
    "import tensorflow as tf\n",
    "from tensorflow import keras\n",
    "from keras.callbacks import EarlyStopping\n",
    "from keras.models import Sequential\n",
    "from keras.layers import Dense,Dropout\n",
    "\n",
    "\n",
    "input_features = 20\n",
    "\n",
    "# model creation\n",
    "model = Sequential()\n",
    "model.add(Dense(units=20, input_shape=(input_features,), activation='relu'))\n",
    "model.add(Dropout(0.5)) # To prevent overfitting\n",
    "model.add(Dense(units=11, activation='relu'))\n",
    "model.add(Dropout(0.5))\n",
    "model.add(Dense(units=1, activation='sigmoid')) \n",
    "\n",
    "model.compile(optimizer='adam', loss='binary_crossentropy', metrics=['accuracy'])\n",
    "\n",
    "# Early stopping to avoid overfitting\n",
    "early_stopping = EarlyStopping(monitor='val_loss', patience=5, restore_best_weights=True)"
   ]
  },
  {
   "cell_type": "code",
   "execution_count": 19,
   "id": "8cb92556",
   "metadata": {
    "execution": {
     "iopub.execute_input": "2024-01-31T12:51:47.047467Z",
     "iopub.status.busy": "2024-01-31T12:51:47.046691Z",
     "iopub.status.idle": "2024-01-31T12:52:22.397605Z",
     "shell.execute_reply": "2024-01-31T12:52:22.396193Z"
    },
    "papermill": {
     "duration": 35.368926,
     "end_time": "2024-01-31T12:52:22.400100",
     "exception": false,
     "start_time": "2024-01-31T12:51:47.031174",
     "status": "completed"
    },
    "tags": []
   },
   "outputs": [
    {
     "name": "stdout",
     "output_type": "stream",
     "text": [
      "Epoch 1/50\n",
      "372/372 [==============================] - 2s 3ms/step - loss: 0.8034 - accuracy: 0.5577 - val_loss: 0.5608 - val_accuracy: 0.8099\n",
      "Epoch 2/50\n",
      "372/372 [==============================] - 1s 2ms/step - loss: 0.5796 - accuracy: 0.6826 - val_loss: 0.4486 - val_accuracy: 0.8409\n",
      "Epoch 3/50\n",
      "372/372 [==============================] - 1s 3ms/step - loss: 0.4974 - accuracy: 0.7583 - val_loss: 0.3726 - val_accuracy: 0.8517\n",
      "Epoch 4/50\n",
      "372/372 [==============================] - 1s 2ms/step - loss: 0.4424 - accuracy: 0.8023 - val_loss: 0.3488 - val_accuracy: 0.8571\n",
      "Epoch 5/50\n",
      "372/372 [==============================] - 1s 3ms/step - loss: 0.4072 - accuracy: 0.8188 - val_loss: 0.3190 - val_accuracy: 0.8622\n",
      "Epoch 6/50\n",
      "372/372 [==============================] - 1s 3ms/step - loss: 0.3836 - accuracy: 0.8340 - val_loss: 0.3079 - val_accuracy: 0.8660\n",
      "Epoch 7/50\n",
      "372/372 [==============================] - 1s 3ms/step - loss: 0.3686 - accuracy: 0.8432 - val_loss: 0.2745 - val_accuracy: 0.8811\n",
      "Epoch 8/50\n",
      "372/372 [==============================] - 1s 2ms/step - loss: 0.3530 - accuracy: 0.8497 - val_loss: 0.2905 - val_accuracy: 0.8699\n",
      "Epoch 9/50\n",
      "372/372 [==============================] - 1s 3ms/step - loss: 0.3373 - accuracy: 0.8603 - val_loss: 0.2736 - val_accuracy: 0.8757\n",
      "Epoch 10/50\n",
      "372/372 [==============================] - 1s 3ms/step - loss: 0.3283 - accuracy: 0.8616 - val_loss: 0.2683 - val_accuracy: 0.8800\n",
      "Epoch 11/50\n",
      "372/372 [==============================] - 1s 2ms/step - loss: 0.3266 - accuracy: 0.8685 - val_loss: 0.2632 - val_accuracy: 0.8842\n",
      "Epoch 12/50\n",
      "372/372 [==============================] - 1s 3ms/step - loss: 0.3172 - accuracy: 0.8732 - val_loss: 0.2574 - val_accuracy: 0.8858\n",
      "Epoch 13/50\n",
      "372/372 [==============================] - 1s 3ms/step - loss: 0.3121 - accuracy: 0.8748 - val_loss: 0.2500 - val_accuracy: 0.8931\n",
      "Epoch 14/50\n",
      "372/372 [==============================] - 1s 3ms/step - loss: 0.3053 - accuracy: 0.8795 - val_loss: 0.2529 - val_accuracy: 0.8897\n",
      "Epoch 15/50\n",
      "372/372 [==============================] - 1s 3ms/step - loss: 0.3069 - accuracy: 0.8785 - val_loss: 0.2551 - val_accuracy: 0.8862\n",
      "Epoch 16/50\n",
      "372/372 [==============================] - 1s 3ms/step - loss: 0.3012 - accuracy: 0.8832 - val_loss: 0.2442 - val_accuracy: 0.8912\n",
      "Epoch 17/50\n",
      "372/372 [==============================] - 1s 3ms/step - loss: 0.3015 - accuracy: 0.8876 - val_loss: 0.2489 - val_accuracy: 0.8916\n",
      "Epoch 18/50\n",
      "372/372 [==============================] - 1s 3ms/step - loss: 0.2933 - accuracy: 0.8914 - val_loss: 0.2500 - val_accuracy: 0.8877\n",
      "Epoch 19/50\n",
      "372/372 [==============================] - 1s 2ms/step - loss: 0.3021 - accuracy: 0.8835 - val_loss: 0.2466 - val_accuracy: 0.8912\n",
      "Epoch 20/50\n",
      "372/372 [==============================] - 1s 3ms/step - loss: 0.2902 - accuracy: 0.8871 - val_loss: 0.2407 - val_accuracy: 0.8978\n",
      "Epoch 21/50\n",
      "372/372 [==============================] - 1s 2ms/step - loss: 0.2895 - accuracy: 0.8929 - val_loss: 0.2341 - val_accuracy: 0.9009\n",
      "Epoch 22/50\n",
      "372/372 [==============================] - 1s 2ms/step - loss: 0.2840 - accuracy: 0.8921 - val_loss: 0.2400 - val_accuracy: 0.8978\n",
      "Epoch 23/50\n",
      "372/372 [==============================] - 1s 2ms/step - loss: 0.2885 - accuracy: 0.8937 - val_loss: 0.2405 - val_accuracy: 0.8974\n",
      "Epoch 24/50\n",
      "372/372 [==============================] - 1s 2ms/step - loss: 0.2892 - accuracy: 0.8961 - val_loss: 0.2295 - val_accuracy: 0.9044\n",
      "Epoch 25/50\n",
      "372/372 [==============================] - 1s 3ms/step - loss: 0.2813 - accuracy: 0.8949 - val_loss: 0.2445 - val_accuracy: 0.8966\n",
      "Epoch 26/50\n",
      "372/372 [==============================] - 1s 3ms/step - loss: 0.2828 - accuracy: 0.8957 - val_loss: 0.2418 - val_accuracy: 0.8997\n",
      "Epoch 27/50\n",
      "372/372 [==============================] - 1s 2ms/step - loss: 0.2849 - accuracy: 0.8940 - val_loss: 0.2280 - val_accuracy: 0.9036\n",
      "Epoch 28/50\n",
      "372/372 [==============================] - 1s 2ms/step - loss: 0.2799 - accuracy: 0.8950 - val_loss: 0.2260 - val_accuracy: 0.9071\n",
      "Epoch 29/50\n",
      "372/372 [==============================] - 1s 2ms/step - loss: 0.2848 - accuracy: 0.8946 - val_loss: 0.2345 - val_accuracy: 0.9044\n",
      "Epoch 30/50\n",
      "372/372 [==============================] - 1s 3ms/step - loss: 0.2777 - accuracy: 0.8978 - val_loss: 0.2186 - val_accuracy: 0.9121\n",
      "Epoch 31/50\n",
      "372/372 [==============================] - 1s 3ms/step - loss: 0.2776 - accuracy: 0.8931 - val_loss: 0.2330 - val_accuracy: 0.9067\n",
      "Epoch 32/50\n",
      "372/372 [==============================] - 1s 3ms/step - loss: 0.2739 - accuracy: 0.8967 - val_loss: 0.2199 - val_accuracy: 0.9082\n",
      "Epoch 33/50\n",
      "372/372 [==============================] - 1s 2ms/step - loss: 0.2765 - accuracy: 0.9000 - val_loss: 0.2248 - val_accuracy: 0.9090\n",
      "Epoch 34/50\n",
      "372/372 [==============================] - 1s 2ms/step - loss: 0.2720 - accuracy: 0.8977 - val_loss: 0.2258 - val_accuracy: 0.9082\n",
      "Epoch 35/50\n",
      "372/372 [==============================] - 1s 2ms/step - loss: 0.2732 - accuracy: 0.9011 - val_loss: 0.2190 - val_accuracy: 0.9086\n"
     ]
    },
    {
     "data": {
      "image/png": "[encoded data removed]",
      "text/plain": [
       "<Figure size 1200x600 with 2 Axes>"
      ]
     },
     "metadata": {},
     "output_type": "display_data"
    }
   ],
   "source": [
    "# Learning curve plotting\n",
    "\n",
    "import matplotlib.pyplot as plt\n",
    "from keras.callbacks import History\n",
    "\n",
    "# Create an instance of History to store training history\n",
    "history = History()\n",
    "\n",
    "# Train the model and store the training history\n",
    "model.fit(X_train_smote, y_train_smote, epochs=50, validation_data=(X_val, y_val), callbacks=[early_stopping,history])\n",
    "\n",
    "# Plot the learning curve\n",
    "plt.figure(figsize=(12, 6))\n",
    "\n",
    "# Plot training & validation loss values\n",
    "plt.subplot(1, 2, 1)\n",
    "plt.plot(history.history['loss'])\n",
    "plt.plot(history.history['val_loss'])\n",
    "plt.title('Model Loss')\n",
    "plt.xlabel('Epoch')\n",
    "plt.ylabel('Loss')\n",
    "plt.legend(['Train', 'Validation'], loc='upper right')\n",
    "\n",
    "# Plot training & validation accuracy values\n",
    "plt.subplot(1, 2, 2)\n",
    "plt.plot(history.history['accuracy'])\n",
    "plt.plot(history.history['val_accuracy'])\n",
    "plt.title('Model Accuracy')\n",
    "plt.xlabel('Epoch')\n",
    "plt.ylabel('Accuracy')\n",
    "plt.legend(['Train', 'Validation'], loc='lower right')\n",
    "\n",
    "plt.tight_layout()\n",
    "plt.show()"
   ]
  },
  {
   "cell_type": "code",
   "execution_count": 20,
   "id": "9285d757",
   "metadata": {
    "execution": {
     "iopub.execute_input": "2024-01-31T12:52:22.553716Z",
     "iopub.status.busy": "2024-01-31T12:52:22.553317Z",
     "iopub.status.idle": "2024-01-31T12:52:22.683580Z",
     "shell.execute_reply": "2024-01-31T12:52:22.682319Z"
    },
    "papermill": {
     "duration": 0.211598,
     "end_time": "2024-01-31T12:52:22.686400",
     "exception": false,
     "start_time": "2024-01-31T12:52:22.474802",
     "status": "completed"
    },
    "tags": []
   },
   "outputs": [
    {
     "name": "stdout",
     "output_type": "stream",
     "text": [
      "15/15 [==============================] - 0s 2ms/step - loss: 0.1728 - accuracy: 0.9298\n"
     ]
    },
    {
     "data": {
      "text/plain": [
       "[0.17284010350704193, 0.9298245906829834]"
      ]
     },
     "execution_count": 20,
     "metadata": {},
     "output_type": "execute_result"
    }
   ],
   "source": [
    "model.evaluate(X_test, y_test)"
   ]
  },
  {
   "cell_type": "code",
   "execution_count": 21,
   "id": "79b7724c",
   "metadata": {
    "execution": {
     "iopub.execute_input": "2024-01-31T12:52:22.843931Z",
     "iopub.status.busy": "2024-01-31T12:52:22.843542Z",
     "iopub.status.idle": "2024-01-31T12:52:23.086964Z",
     "shell.execute_reply": "2024-01-31T12:52:23.086008Z"
    },
    "papermill": {
     "duration": 0.327059,
     "end_time": "2024-01-31T12:52:23.089792",
     "exception": false,
     "start_time": "2024-01-31T12:52:22.762733",
     "status": "completed"
    },
    "tags": []
   },
   "outputs": [
    {
     "name": "stdout",
     "output_type": "stream",
     "text": [
      "15/15 [==============================] - 0s 2ms/step\n"
     ]
    }
   ],
   "source": [
    "y_pred = model.predict(X_test)"
   ]
  },
  {
   "cell_type": "code",
   "execution_count": 22,
   "id": "58858452",
   "metadata": {
    "execution": {
     "iopub.execute_input": "2024-01-31T12:52:23.245949Z",
     "iopub.status.busy": "2024-01-31T12:52:23.244824Z",
     "iopub.status.idle": "2024-01-31T12:52:23.253255Z",
     "shell.execute_reply": "2024-01-31T12:52:23.252341Z"
    },
    "papermill": {
     "duration": 0.089479,
     "end_time": "2024-01-31T12:52:23.255922",
     "exception": false,
     "start_time": "2024-01-31T12:52:23.166443",
     "status": "completed"
    },
    "tags": []
   },
   "outputs": [],
   "source": [
    "y_pred_c = []\n",
    "for elements in y_pred:\n",
    "    if elements >= 0.5:\n",
    "        y_pred_c.append(1)\n",
    "    else:\n",
    "        y_pred_c.append(0)"
   ]
  },
  {
   "cell_type": "code",
   "execution_count": 23,
   "id": "a0e1aa19",
   "metadata": {
    "execution": {
     "iopub.execute_input": "2024-01-31T12:52:23.410787Z",
     "iopub.status.busy": "2024-01-31T12:52:23.409908Z",
     "iopub.status.idle": "2024-01-31T12:52:23.425614Z",
     "shell.execute_reply": "2024-01-31T12:52:23.424232Z"
    },
    "papermill": {
     "duration": 0.096687,
     "end_time": "2024-01-31T12:52:23.428347",
     "exception": false,
     "start_time": "2024-01-31T12:52:23.331660",
     "status": "completed"
    },
    "tags": []
   },
   "outputs": [
    {
     "name": "stdout",
     "output_type": "stream",
     "text": [
      "              precision    recall  f1-score   support\n",
      "\n",
      "           0       0.97      0.95      0.96       390\n",
      "           1       0.73      0.82      0.77        66\n",
      "\n",
      "    accuracy                           0.93       456\n",
      "   macro avg       0.85      0.88      0.86       456\n",
      "weighted avg       0.93      0.93      0.93       456\n",
      "\n"
     ]
    }
   ],
   "source": [
    "from sklearn.metrics import confusion_matrix, classification_report\n",
    "print(classification_report(y_test,y_pred_c))"
   ]
  },
  {
   "cell_type": "markdown",
   "id": "17e8fb33",
   "metadata": {
    "papermill": {
     "duration": 0.077647,
     "end_time": "2024-01-31T12:52:23.581485",
     "exception": false,
     "start_time": "2024-01-31T12:52:23.503838",
     "status": "completed"
    },
    "tags": []
   },
   "source": [
    "### Deep dive into the performance metrics <a class=\"anchor\"  id=\"fin\"></a>"
   ]
  },
  {
   "cell_type": "markdown",
   "id": "8b10893f",
   "metadata": {
    "papermill": {
     "duration": 0.075593,
     "end_time": "2024-01-31T12:52:23.734793",
     "exception": false,
     "start_time": "2024-01-31T12:52:23.659200",
     "status": "completed"
    },
    "tags": []
   },
   "source": [
    "Though the overall accuracy of the model was fine, it is still crucial to consider metrics like precision, recall and f1-score. Going back to our use case -\n",
    "\n",
    "The model is able to correctly classify a good percentage of the customers that do not churn, however based on the recall we can note that it is not completely thorough in doing so - as rightly represented by the f1-score. \n",
    "\n",
    "Coming to the attrited customers, it is able to correctly classify quite few which will not really be very beneficial to the company. "
   ]
  }
 ],
 "metadata": {
  "kaggle": {
   "accelerator": "none",
   "dataSources": [
    {
     "datasetId": 982921,
     "sourceId": 1660340,
     "sourceType": "datasetVersion"
    }
   ],
   "dockerImageVersionId": 30635,
   "isGpuEnabled": false,
   "isInternetEnabled": true,
   "language": "python",
   "sourceType": "notebook"
  },
  "kernelspec": {
   "display_name": "Python 3",
   "language": "python",
   "name": "python3"
  },
  "language_info": {
   "codemirror_mode": {
    "name": "ipython",
    "version": 3
   },
   "file_extension": ".py",
   "mimetype": "text/x-python",
   "name": "python",
   "nbconvert_exporter": "python",
   "pygments_lexer": "ipython3",
   "version": "3.10.12"
  },
  "papermill": {
   "default_parameters": {},
   "duration": 64.229853,
   "end_time": "2024-01-31T12:52:26.124449",
   "environment_variables": {},
   "exception": null,
   "input_path": "__notebook__.ipynb",
   "output_path": "__notebook__.ipynb",
   "parameters": {},
   "start_time": "2024-01-31T12:51:21.894596",
   "version": "2.4.0"
  }
 },
 "nbformat": 4,
 "nbformat_minor": 5
}
